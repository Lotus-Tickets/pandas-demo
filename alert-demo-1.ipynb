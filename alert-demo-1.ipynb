{
 "cells": [
  {
   "cell_type": "code",
   "execution_count": 1,
   "id": "f36b8a03",
   "metadata": {},
   "outputs": [],
   "source": [
    "import pandas as pd\n",
    "import datetime as dt\n",
    "import uuid"
   ]
  },
  {
   "cell_type": "code",
   "execution_count": 2,
   "id": "6f6abd62",
   "metadata": {},
   "outputs": [],
   "source": [
    "from bright_data import load_data"
   ]
  },
  {
   "cell_type": "code",
   "execution_count": 3,
   "id": "ba1f9147",
   "metadata": {},
   "outputs": [],
   "source": [
    "%load_ext autoreload\n",
    "%autoreload 2"
   ]
  },
  {
   "cell_type": "markdown",
   "id": "7609f302",
   "metadata": {},
   "source": [
    "### Build Example `Alert-Objects`"
   ]
  },
  {
   "cell_type": "code",
   "execution_count": 4,
   "id": "551ce6ef",
   "metadata": {},
   "outputs": [],
   "source": [
    "alert_1 = {\n",
    "    \n",
    "    'alert_id':         uuid.uuid4(),\n",
    "    'user_id':          12,\n",
    "    'alert_set_dt':     dt.datetime(2022, 8, 1),\n",
    "    'alert_expires_dt': dt.datetime(2022, 10, 1),\n",
    "    'expires_after':    False,\n",
    "    'alert_type':       'seats',\n",
    "    'event_id':         '0E005C56E48E2B02',\n",
    "    \n",
    "    'alert_obj': {\n",
    "        'alert_type': 'availability',\n",
    "        'section': '204',\n",
    "        'row':     None,\n",
    "        'operator': '<',\n",
    "        'quantity': 6,\n",
    "        \n",
    "    }\n",
    "}\n",
    "\n",
    "alert_2 = {\n",
    "    \n",
    "    'alert_id':         uuid.uuid4(),\n",
    "    'user_id':          12,\n",
    "    'alert_set_dt':     dt.datetime(2022, 8, 2),\n",
    "    'alert_expires_dt': dt.datetime(2022, 10, 1),\n",
    "    'expires_after':    False,\n",
    "    'alert_type':       'seats',\n",
    "    'event_id':         '0E005C56E48E2B02',\n",
    "    \n",
    "    'alert_obj': {\n",
    "        'alert_type': 'availability',\n",
    "        'section': '203',\n",
    "        'row':     None,\n",
    "        'operator': '<',\n",
    "        'quantity': 2,\n",
    "        \n",
    "        \n",
    "    }\n",
    "}\n",
    "\n",
    "alert_3 = {\n",
    "    \n",
    "    'alert_id':         uuid.uuid4(),\n",
    "    'user_id':          6,\n",
    "    'alert_set_dt':     dt.datetime(2022, 8, 5),\n",
    "    'alert_expires_dt': dt.datetime(2022, 10, 1),\n",
    "    'expires_after':    True,\n",
    "    'alert_type':       'seats',\n",
    "    'event_id':         '0E005C56E48E2B02',\n",
    "    \n",
    "    'alert_obj': {\n",
    "        'alert_type': 'price',\n",
    "        'section': '203',\n",
    "        'operator': '<',\n",
    "        'quantity': 60.0,\n",
    "        \n",
    "    }\n",
    "}"
   ]
  },
  {
   "cell_type": "markdown",
   "id": "b400fe23",
   "metadata": {},
   "source": [
    "### Skeleton of alert filtering system"
   ]
  },
  {
   "cell_type": "code",
   "execution_count": 5,
   "id": "68a0f431",
   "metadata": {},
   "outputs": [],
   "source": [
    "def constraint_check(amt, operator, quantity):\n",
    "    '''\n",
    "        returns True if the amt/operator/quantity satisfy \n",
    "        a particular relationship; otherwise False\n",
    "    '''\n",
    "    \n",
    "    if operator == '<':\n",
    "        return (amt < quantity)\n",
    "    elif operator == '=':\n",
    "        return (amt == quantity)\n",
    "    elif operator == '>':\n",
    "        return (amt > quantity)\n",
    "    else:\n",
    "        return False\n",
    "\n",
    "    \n",
    "def inner_check(alert_obj, data_old, data_new):\n",
    "    '''\n",
    "        returns True if the alert should be triggered, False otherwise\n",
    "        Need to check the `alert_type` for the column of interest\n",
    "        and the `section` field if we should break it into sections\n",
    "    '''\n",
    "    \n",
    "    if alert_obj['alert_type'] == 'availability':\n",
    "        \n",
    "        if alert_obj['section'] is not None:\n",
    "            tbl = data_new.groupby('section').agg('sum')['availability']\n",
    "            amt = tbl[alert_obj['section']]\n",
    "        else:\n",
    "            amt = data_new.agg('sum')['availability']\n",
    "        \n",
    "    \n",
    "    elif alert_obj['alert_type'] == 'price':\n",
    "        \n",
    "        if alert_obj['section'] is not None:\n",
    "            tbl = data_new.groupby('section').agg('min')['price']\n",
    "            amt = tbl[alert_obj['section']]\n",
    "        else:\n",
    "            amt = data_new.agg('min')['price']\n",
    "    \n",
    "    else:\n",
    "        pass\n",
    "    \n",
    "    # now check if the contraint is true or false\n",
    "    result = constraint_check(\n",
    "                amt,\n",
    "                alert_obj['operator'],\n",
    "                alert_obj['quantity'],\n",
    "            )\n",
    "        \n",
    "    return result\n",
    "    \n",
    "\n",
    "def outer_check(event_id, alert, data_old, data_new):\n",
    "    \n",
    "    # check if valid for datetime, alert_type\n",
    "    if (\n",
    "        (alert['alert_set_dt'] > dt.datetime.now())    or\n",
    "        (alert['alert_expires_dt'] < dt.datetime.now())\n",
    "    ):\n",
    "        # TODO - we can remove expired alerts here\n",
    "        return \n",
    "        \n",
    "\n",
    "    if alert['alert_type'] != 'seats':\n",
    "        # TODO - there are other type of alerts like those\n",
    "        # based on changes to the scheduling of the event,\n",
    "        # but those don't use bright_data scrapes so we don't \n",
    "        # use them here\n",
    "        return \n",
    "    \n",
    "    # check if the alert should be triggered\n",
    "    try:\n",
    "        result = inner_check(\n",
    "                    alert['alert_obj'],\n",
    "                    data_old,\n",
    "                    data_new,\n",
    "        )\n",
    "    except:\n",
    "        result = False\n",
    "        \n",
    "    if result:\n",
    "        triggered_obj = {\n",
    "            'alert_id':   alert['alert_id'],\n",
    "            'user_id':    alert['user_id'],\n",
    "            'trigger_dt': dt.datetime.now(),\n",
    "            'alert':      alert,\n",
    "            'trigger_amt': None   # TODO - we might want to add the amt that \n",
    "            # triggered the alert, e.g. if it was looking for tickets below\n",
    "            # $50 and found one for $40 this value should be 40.\n",
    "        }\n",
    "        \n",
    "        alerts_triggered.append(triggered_obj)\n",
    "        \n",
    "        if alert['expires_after']:\n",
    "            \n",
    "            ind = [i for (i,v) in enumerate(alerts_listening) \n",
    "                   if alert['alert_id']\n",
    "                  ][0]\n",
    "            alerts_listening.pop(ind)\n",
    "            \n",
    "            \n",
    "\n"
   ]
  },
  {
   "cell_type": "markdown",
   "id": "8fc3af0e",
   "metadata": {},
   "source": [
    "### Read in Data"
   ]
  },
  {
   "cell_type": "code",
   "execution_count": 13,
   "id": "8e3160e6",
   "metadata": {},
   "outputs": [],
   "source": [
    "data_old = load_data('bright_data_1-9.1.22.json')\n",
    "data_new = load_data('bright_data_1-9.2.22.json')"
   ]
  },
  {
   "cell_type": "markdown",
   "id": "2cee62e1",
   "metadata": {},
   "source": [
    "### Demo the Alert system"
   ]
  },
  {
   "cell_type": "markdown",
   "id": "3bde8e71",
   "metadata": {},
   "source": [
    "##### These arrays would be DB tables"
   ]
  },
  {
   "cell_type": "code",
   "execution_count": 14,
   "id": "e60f7c48",
   "metadata": {},
   "outputs": [],
   "source": [
    "alerts_listening = [alert_1, alert_2, alert_3]\n",
    "alerts_triggered = []"
   ]
  },
  {
   "cell_type": "markdown",
   "id": "a3d68e32",
   "metadata": {},
   "source": [
    "##### Parse all the alerts_listening to just the `type` and for the `event_id` which we received new data on"
   ]
  },
  {
   "cell_type": "code",
   "execution_count": 15,
   "id": "a6fd8ade",
   "metadata": {},
   "outputs": [],
   "source": [
    "event_id = \"0E005C56E48E2B02\"\n",
    "alert_type = \"seats\"\n",
    "\n",
    "alerts = [alert for alert in alerts_listening\n",
    "          if (\n",
    "              (alert['event_id'] == event_id)    and\n",
    "              (alert['alert_type'] == alert_type)\n",
    "             )\n",
    "         ]"
   ]
  },
  {
   "cell_type": "code",
   "execution_count": 16,
   "id": "fe6cc2d8",
   "metadata": {},
   "outputs": [],
   "source": [
    "data_old = data_old[data_old['event_id'] == event_id]\n",
    "data_new = data_new[data_new['event_id'] == event_id]"
   ]
  },
  {
   "cell_type": "markdown",
   "id": "7d961ebd",
   "metadata": {},
   "source": [
    "##### It all happens right here!"
   ]
  },
  {
   "cell_type": "code",
   "execution_count": 17,
   "id": "dee0587c",
   "metadata": {},
   "outputs": [],
   "source": [
    "for alert in alerts:\n",
    "    outer_check(event_id, alert, data_old, data_new)"
   ]
  },
  {
   "cell_type": "markdown",
   "id": "8d6d958f",
   "metadata": {},
   "source": [
    "### Results\n",
    "\n",
    "We start with 3 listening and 0 tirggered and end with 2 listening and 2 triggered.\n",
    "\n",
    "This is because alert_1 and alert_3 are setup to trigger, and then alert_3 also has `expire_after=True` so that when it's triggered, it leaves the listening pool."
   ]
  },
  {
   "cell_type": "code",
   "execution_count": 11,
   "id": "29628e3e",
   "metadata": {},
   "outputs": [
    {
     "data": {
      "text/plain": [
       "(2, 2)"
      ]
     },
     "execution_count": 11,
     "metadata": {},
     "output_type": "execute_result"
    }
   ],
   "source": [
    "len(alerts_listening), len(alerts_triggered)"
   ]
  },
  {
   "cell_type": "code",
   "execution_count": 12,
   "id": "ec0d0994",
   "metadata": {},
   "outputs": [
    {
     "data": {
      "text/plain": [
       "[{'alert_id': UUID('bd43f926-14cc-4224-8756-9566056382ee'),\n",
       "  'user_id': 12,\n",
       "  'trigger_dt': datetime.datetime(2022, 8, 12, 14, 11, 51, 604302),\n",
       "  'alert': {'alert_id': UUID('bd43f926-14cc-4224-8756-9566056382ee'),\n",
       "   'user_id': 12,\n",
       "   'alert_set_dt': datetime.datetime(2022, 8, 1, 0, 0),\n",
       "   'alert_expires_dt': datetime.datetime(2022, 10, 1, 0, 0),\n",
       "   'expires_after': False,\n",
       "   'alert_type': 'seats',\n",
       "   'event_id': '0E005C56E48E2B02',\n",
       "   'alert_obj': {'alert_type': 'availability',\n",
       "    'section': '204',\n",
       "    'row': None,\n",
       "    'operator': '<',\n",
       "    'quantity': 6}},\n",
       "  'trigger_amt': None},\n",
       " {'alert_id': UUID('067ebb26-4ac5-4ed0-a0f9-410866284a4e'),\n",
       "  'user_id': 6,\n",
       "  'trigger_dt': datetime.datetime(2022, 8, 12, 14, 11, 51, 660025),\n",
       "  'alert': {'alert_id': UUID('067ebb26-4ac5-4ed0-a0f9-410866284a4e'),\n",
       "   'user_id': 6,\n",
       "   'alert_set_dt': datetime.datetime(2022, 8, 5, 0, 0),\n",
       "   'alert_expires_dt': datetime.datetime(2022, 10, 1, 0, 0),\n",
       "   'expires_after': True,\n",
       "   'alert_type': 'seats',\n",
       "   'event_id': '0E005C56E48E2B02',\n",
       "   'alert_obj': {'alert_type': 'price',\n",
       "    'section': '203',\n",
       "    'operator': '<',\n",
       "    'quantity': 60.0}},\n",
       "  'trigger_amt': None}]"
      ]
     },
     "execution_count": 12,
     "metadata": {},
     "output_type": "execute_result"
    }
   ],
   "source": [
    "alerts_triggered"
   ]
  },
  {
   "cell_type": "code",
   "execution_count": null,
   "id": "eeff8ca7",
   "metadata": {},
   "outputs": [],
   "source": []
  }
 ],
 "metadata": {
  "kernelspec": {
   "display_name": "Python 3 (ipykernel)",
   "language": "python",
   "name": "python3"
  },
  "language_info": {
   "codemirror_mode": {
    "name": "ipython",
    "version": 3
   },
   "file_extension": ".py",
   "mimetype": "text/x-python",
   "name": "python",
   "nbconvert_exporter": "python",
   "pygments_lexer": "ipython3",
   "version": "3.9.7"
  }
 },
 "nbformat": 4,
 "nbformat_minor": 5
}
